{
  "nbformat": 4,
  "nbformat_minor": 0,
  "metadata": {
    "colab": {
      "provenance": [],
      "authorship_tag": "ABX9TyOaAbsbBOGoS9XwCAtmqGBy",
      "include_colab_link": true
    },
    "kernelspec": {
      "name": "python3",
      "display_name": "Python 3"
    },
    "language_info": {
      "name": "python"
    }
  },
  "cells": [
    {
      "cell_type": "markdown",
      "metadata": {
        "id": "view-in-github",
        "colab_type": "text"
      },
      "source": [
        "<a href=\"https://colab.research.google.com/github/ryota958/nlp100/blob/main/ch1.ipynb\" target=\"_parent\"><img src=\"https://colab.research.google.com/assets/colab-badge.svg\" alt=\"Open In Colab\"/></a>"
      ]
    },
    {
      "cell_type": "markdown",
      "source": [
        "0. 文字列の逆順\n"
      ],
      "metadata": {
        "id": "JqIuYSpLcuGr"
      }
    },
    {
      "cell_type": "code",
      "execution_count": null,
      "metadata": {
        "id": "eDNMcAnsU_vH",
        "colab": {
          "base_uri": "https://localhost:8080/",
          "height": 35
        },
        "outputId": "8f04af5a-cf8c-4e26-ad72-0cbc271a20ac"
      },
      "outputs": [
        {
          "output_type": "execute_result",
          "data": {
            "text/plain": [
              "'desserts'"
            ],
            "application/vnd.google.colaboratory.intrinsic+json": {
              "type": "string"
            }
          },
          "metadata": {},
          "execution_count": 1
        }
      ],
      "source": [
        "str = \"stressed\"\n",
        "ans = str[::-1]\n",
        "ans"
      ]
    },
    {
      "cell_type": "markdown",
      "source": [
        "1. パタトクカシーー"
      ],
      "metadata": {
        "id": "ekhi0dAkcsdU"
      }
    },
    {
      "cell_type": "code",
      "source": [
        "#文字列の奇数番目を取り出す\n",
        "str = \"パタトクカシーー\"\n",
        "ans = str[::2]\n",
        "ans"
      ],
      "metadata": {
        "colab": {
          "base_uri": "https://localhost:8080/",
          "height": 35
        },
        "id": "9knbNMTOc_Ww",
        "outputId": "e3700735-2f3e-43dc-dc67-76531f54e8d0"
      },
      "execution_count": null,
      "outputs": [
        {
          "output_type": "execute_result",
          "data": {
            "text/plain": [
              "'パトカー'"
            ],
            "application/vnd.google.colaboratory.intrinsic+json": {
              "type": "string"
            }
          },
          "metadata": {},
          "execution_count": 2
        }
      ]
    },
    {
      "cell_type": "markdown",
      "source": [
        "2. 「パトカー」＋「タクシー」の文字を先頭から交互に連結して文字列「パタトクカシーー」を得よ．"
      ],
      "metadata": {
        "id": "LrJ-3UcRdXEO"
      }
    },
    {
      "cell_type": "code",
      "source": [
        "str1 = 'パトカー'\n",
        "str2 = 'タクシー'\n",
        "ans = ''.join([i + j for i, j in zip(str1, str2)])  # str1とstr2を同時にループ\n",
        "ans"
      ],
      "metadata": {
        "colab": {
          "base_uri": "https://localhost:8080/",
          "height": 35
        },
        "id": "fN15hIixdWsV",
        "outputId": "551c2406-6548-43d5-8e20-8bb78981783f"
      },
      "execution_count": null,
      "outputs": [
        {
          "output_type": "execute_result",
          "data": {
            "text/plain": [
              "'パタトクカシーー'"
            ],
            "application/vnd.google.colaboratory.intrinsic+json": {
              "type": "string"
            }
          },
          "metadata": {},
          "execution_count": 3
        }
      ]
    },
    {
      "cell_type": "markdown",
      "source": [
        "3. “Now I need a drink, alcoholic of course, after the heavy lectures involving quantum mechanics.”という文を単語に分解し，各単語の（アルファベットの）文字数を先頭から出現順に並べたリストを作成せよ．"
      ],
      "metadata": {
        "id": "MrBVoONAgDeO"
      }
    },
    {
      "cell_type": "code",
      "source": [
        "import re\n",
        "\n",
        "str = 'Now I need a drink, alcoholic of course, after the heavy lectures involving quantum mechanics.'\n",
        "str = re.sub('[,\\.]', '', str)\n",
        "splits = str.split()\n",
        "ans = [len(i) for i in splits]\n",
        "ans"
      ],
      "metadata": {
        "colab": {
          "base_uri": "https://localhost:8080/"
        },
        "id": "gD-Vm4ExdQhF",
        "outputId": "4102fe39-02e0-4dd4-b27f-b52b97ad0797"
      },
      "execution_count": null,
      "outputs": [
        {
          "output_type": "execute_result",
          "data": {
            "text/plain": [
              "[3, 1, 4, 1, 5, 9, 2, 6, 5, 3, 5, 8, 9, 7, 9]"
            ]
          },
          "metadata": {},
          "execution_count": 4
        }
      ]
    },
    {
      "cell_type": "markdown",
      "source": [
        "4. “Hi He Lied Because Boron Could Not Oxidize Fluorine. New Nations Might Also Sign Peace Security Clause. Arthur King Can.”という文を単語に分解し，1, 5, 6, 7, 8, 9, 15, 16, 19番目の単語は先頭の1文字，それ以外の単語は先頭の2文字を取り出し，取り出した文字列から単語の位置（先頭から何番目の単語か）への連想配列（辞書型もしくはマップ型）を作成せよ．\n",
        "\n"
      ],
      "metadata": {
        "id": "you8LQTiSRa_"
      }
    },
    {
      "cell_type": "code",
      "source": [
        "str = 'Hi He Lied Because Boron Could Not Oxidize Fluorine. New Nations Might Also Sign Peace Security Clause. Arthur King Can.'\n",
        "splits = str.split()\n",
        "one_ch = [1, 5, 6, 7, 8, 9, 15, 16, 19]  # 1文字を取り出す単語の番号リスト\n",
        "ans = {}\n",
        "for i, word in enumerate(splits):\n",
        "  if i + 1 in one_ch:\n",
        "    ans[word[:1]] = i + 1  # リストにあれば1文字を取得\n",
        "  else:\n",
        "    ans[word[:2]] = i + 1  # なければ2文字を取得\n",
        "ans"
      ],
      "metadata": {
        "colab": {
          "base_uri": "https://localhost:8080/"
        },
        "id": "dCQYO0NDPVcZ",
        "outputId": "a25da47c-4d54-4aba-cd69-f234d8de7726"
      },
      "execution_count": null,
      "outputs": [
        {
          "output_type": "execute_result",
          "data": {
            "text/plain": [
              "{'H': 1,\n",
              " 'He': 2,\n",
              " 'Li': 3,\n",
              " 'Be': 4,\n",
              " 'B': 5,\n",
              " 'C': 6,\n",
              " 'N': 7,\n",
              " 'O': 8,\n",
              " 'F': 9,\n",
              " 'Ne': 10,\n",
              " 'Na': 11,\n",
              " 'Mi': 12,\n",
              " 'Al': 13,\n",
              " 'Si': 14,\n",
              " 'P': 15,\n",
              " 'S': 16,\n",
              " 'Cl': 17,\n",
              " 'Ar': 18,\n",
              " 'K': 19,\n",
              " 'Ca': 20}"
            ]
          },
          "metadata": {},
          "execution_count": 5
        }
      ]
    },
    {
      "cell_type": "markdown",
      "source": [
        "5. 与えられたシーケンス（文字列やリストなど）からn-gramを作る関数を作成せよ．この関数を用い，”I am an NLPer”という文から単語bi-gram，文字bi-gramを得よ．"
      ],
      "metadata": {
        "id": "5u6xar4dSbUg"
      }
    },
    {
      "cell_type": "code",
      "source": [
        "def ngram(n ,lst):\n",
        "  return list(zip(*[lst[i:] for i in range(n)]))\n",
        "\n",
        "str = 'I am an NLPer'\n",
        "words_bi_gram = ngram(2, str.split())\n",
        "chars_bi_gram = ngram(2, str)\n",
        "\n",
        "print('単語bi-gram', words_bi_gram)\n",
        "print('文字bi-gram', chars_bi_gram)"
      ],
      "metadata": {
        "colab": {
          "base_uri": "https://localhost:8080/"
        },
        "id": "ki2UJ-7VQs9e",
        "outputId": "e0c80359-c590-4187-b163-8b436b7fdf1c"
      },
      "execution_count": null,
      "outputs": [
        {
          "output_type": "stream",
          "name": "stdout",
          "text": [
            "単語bi-gram [('I', 'am'), ('am', 'an'), ('an', 'NLPer')]\n",
            "文字bi-gram [('I', ' '), (' ', 'a'), ('a', 'm'), ('m', ' '), (' ', 'a'), ('a', 'n'), ('n', ' '), (' ', 'N'), ('N', 'L'), ('L', 'P'), ('P', 'e'), ('e', 'r')]\n"
          ]
        }
      ]
    },
    {
      "cell_type": "markdown",
      "source": [
        "6. “paraparaparadise”と”paragraph”に含まれる文字bi-gramの集合を，それぞれ, XとYとして求め，XとYの和集合，積集合，差集合を求めよ．さらに，’se’というbi-gramがXおよびYに含まれるかどうかを調べよ．"
      ],
      "metadata": {
        "id": "WJrVZ_hsV1he"
      }
    },
    {
      "cell_type": "code",
      "source": [
        "str1 = 'paraparaparadise'\n",
        "str2 = 'paragraph'\n",
        "X = set(ngram(2, str1))\n",
        "Y = set(ngram(2, str2))\n",
        "union = X | Y\n",
        "intersection = X & Y\n",
        "difference = X - Y\n",
        "\n",
        "print('X:', X)\n",
        "print('Y:', Y)\n",
        "print('和集合:', union)\n",
        "print('積集合:', intersection)\n",
        "print('差集合:', difference)\n",
        "print('Xにseが含まれるか:', {('s', 'e')} <= X)\n",
        "print('Yにseが含まれるか:', {('s', 'e')} <= Y)\n"
      ],
      "metadata": {
        "colab": {
          "base_uri": "https://localhost:8080/"
        },
        "id": "JVuuwxqyQ292",
        "outputId": "fd2edbbf-7769-4de5-88e9-9dca3e321b4d"
      },
      "execution_count": null,
      "outputs": [
        {
          "output_type": "stream",
          "name": "stdout",
          "text": [
            "X: {('a', 'r'), ('a', 'p'), ('p', 'a'), ('i', 's'), ('d', 'i'), ('s', 'e'), ('r', 'a'), ('a', 'd')}\n",
            "Y: {('a', 'r'), ('a', 'p'), ('p', 'a'), ('a', 'g'), ('g', 'r'), ('p', 'h'), ('r', 'a')}\n",
            "和集合: {('a', 'r'), ('a', 'p'), ('p', 'a'), ('a', 'g'), ('i', 's'), ('d', 'i'), ('g', 'r'), ('s', 'e'), ('p', 'h'), ('r', 'a'), ('a', 'd')}\n",
            "積集合: {('a', 'r'), ('r', 'a'), ('a', 'p'), ('p', 'a')}\n",
            "差集合: {('s', 'e'), ('i', 's'), ('a', 'd'), ('d', 'i')}\n",
            "Xにseが含まれるか: True\n",
            "Yにseが含まれるか: False\n"
          ]
        }
      ]
    },
    {
      "cell_type": "markdown",
      "source": [
        "7. 引数x, y, zを受け取り「x時のyはz」という文字列を返す関数を実装せよ．さらに，x=12, y=”気温”, z=22.4として，実行結果を確認せよ．\n"
      ],
      "metadata": {
        "id": "Z0U8YXgzW-P9"
      }
    },
    {
      "cell_type": "code",
      "source": [
        "def function(x, y, z):\n",
        "  print(f'{x}時の時{y}は{z}')\n",
        "\n",
        "function(12, '気温', 22.4)"
      ],
      "metadata": {
        "colab": {
          "base_uri": "https://localhost:8080/"
        },
        "id": "rHpZKfnSUyBt",
        "outputId": "666b6a30-b9db-4981-dd76-3629ff9713bd"
      },
      "execution_count": null,
      "outputs": [
        {
          "output_type": "stream",
          "name": "stdout",
          "text": [
            "12時の時気温は22.4\n"
          ]
        }
      ]
    },
    {
      "cell_type": "markdown",
      "source": [
        "8. 与えられた文字列の各文字を，以下の仕様で変換する関数cipherを実装せよ． 英小文字ならば(219 - 文字コード)の文字に置換 その他の文字はそのまま出力 この関数を用い，英語のメッセージを暗号化・復号化せよ．"
      ],
      "metadata": {
        "id": "xMij_l_AXn8S"
      }
    },
    {
      "cell_type": "code",
      "source": [
        "def cipher(str):\n",
        "  rep = [chr(219 - ord(x)) if x.islower() else x for x in str]\n",
        "\n",
        "  return ''.join(rep)\n",
        "\n",
        "message = 'the quick brown fox jumps over the lazy dog'\n",
        "message = cipher(message)\n",
        "print('暗号化:', message)\n",
        "message = cipher(message)\n",
        "print('復号化:', message)"
      ],
      "metadata": {
        "colab": {
          "base_uri": "https://localhost:8080/"
        },
        "id": "oyvQJH3_VDk9",
        "outputId": "3ca78c3d-ce83-48c9-d8e3-f33022980831"
      },
      "execution_count": null,
      "outputs": [
        {
          "output_type": "stream",
          "name": "stdout",
          "text": [
            "暗号化: gsv jfrxp yildm ulc qfnkh levi gsv ozab wlt\n",
            "復号化: the quick brown fox jumps over the lazy dog\n"
          ]
        }
      ]
    },
    {
      "cell_type": "markdown",
      "source": [
        "9. スペースで区切られた単語列に対して，各単語の先頭と末尾の文字は残し，それ以外の文字の順序をランダムに並び替えるプログラムを作成せよ．ただし，長さが４以下の単語は並び替えないこととする．適当な英語の文（例えば”I couldn’t believe that I could actually understand what I was reading : the phenomenal power of the human mind .”）を与え，その実行結果を確認せよ．"
      ],
      "metadata": {
        "id": "Lu2Pn662aWIQ"
      }
    },
    {
      "cell_type": "code",
      "source": [
        "import random\n",
        "\n",
        "def shuffle(words):\n",
        "  result = []\n",
        "  for word in words.split():\n",
        "    if len(word) > 4:  # 長さが4超であればシャッフル\n",
        "      word = word[:1] + ''.join(random.sample(word[1:-1], len(word) - 2)) + word[-1:]\n",
        "    result.append(word)\n",
        "\n",
        "  return ' '.join(result)\n",
        "\n",
        "words = \"I couldn't believe that I could actually understand what I was reading : the phenomenal power of the human mind .\"\n",
        "ans = shuffle(words)\n",
        "ans"
      ],
      "metadata": {
        "id": "hyIUefe8aPvX"
      },
      "execution_count": null,
      "outputs": []
    }
  ]
}